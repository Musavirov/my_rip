{
  "nbformat": 4,
  "nbformat_minor": 0,
  "metadata": {
    "colab": {
      "name": "Untitled1.ipynb",
      "provenance": [],
      "authorship_tag": "ABX9TyOc4JS85f+y+LOZ3aoOoVoM",
      "include_colab_link": true
    },
    "kernelspec": {
      "name": "python3",
      "display_name": "Python 3"
    },
    "accelerator": "GPU"
  },
  "cells": [
    {
      "cell_type": "markdown",
      "metadata": {
        "id": "view-in-github",
        "colab_type": "text"
      },
      "source": [
        "<a href=\"https://colab.research.google.com/github/Musavirov/my_rip/blob/master/neu.ipynb\" target=\"_parent\"><img src=\"https://colab.research.google.com/assets/colab-badge.svg\" alt=\"Open In Colab\"/></a>"
      ]
    },
    {
      "cell_type": "code",
      "metadata": {
        "id": "8n5JuxVeJLxW",
        "colab_type": "code",
        "colab": {}
      },
      "source": [
        "import xgboost as xgb\n",
        "import pandas as pd\n",
        "import numpy as np\n",
        "from geopy.distance import geodesic \n",
        "import math\n",
        "from sklearn.metrics import mean_absolute_error, r2_score, median_absolute_error\n",
        "from sklearn.model_selection import train_test_split, GridSearchCV, RandomizedSearchCV\n",
        "from sklearn.ensemble import RandomForestRegressor\n",
        "from sklearn.preprocessing import LabelEncoder\n",
        "import matplotlib.pyplot as plt\n",
        "%matplotlib inline\n",
        "%config InlineBackend.figure_format = 'retina' \n",
        "import warnings\n",
        "warnings.filterwarnings('ignore')"
      ],
      "execution_count": 0,
      "outputs": []
    },
    {
      "cell_type": "code",
      "metadata": {
        "id": "XgeV-dzrKEFB",
        "colab_type": "code",
        "colab": {}
      },
      "source": [
        "#Вычисляет азимут по двум заданным точкам, код взят отсюда: https://pastebin.com/PHeWmiEN\n",
        "def get_azimuth(latitude, longitude):\n",
        " \n",
        "    rad = 6372795\n",
        "\n",
        "    llat1 = city_center_coordinates[0]\n",
        "    llong1 = city_center_coordinates[1]\n",
        "    llat2 = latitude\n",
        "    llong2 = longitude\n",
        "\n",
        "    lat1 = llat1*math.pi/180.\n",
        "    lat2 = llat2*math.pi/180.\n",
        "    long1 = llong1*math.pi/180.\n",
        "    long2 = llong2*math.pi/180.\n",
        "\n",
        "    cl1 = math.cos(lat1)\n",
        "    cl2 = math.cos(lat2)\n",
        "    sl1 = math.sin(lat1)\n",
        "    sl2 = math.sin(lat2)\n",
        "    delta = long2 - long1\n",
        "    cdelta = math.cos(delta)\n",
        "    sdelta = math.sin(delta)\n",
        "\n",
        "    y = math.sqrt(math.pow(cl2*sdelta,2)+math.pow(cl1*sl2-sl1*cl2*cdelta,2))\n",
        "    x = sl1*sl2+cl1*cl2*cdelta\n",
        "    ad = math.atan2(y,x)\n",
        "\n",
        "    x = (cl1*sl2) - (sl1*cl2*cdelta)\n",
        "    y = sdelta*cl2\n",
        "    z = math.degrees(math.atan(-y/x))\n",
        "\n",
        "    if (x < 0):\n",
        "        z = z+180.\n",
        "\n",
        "    z2 = (z+180.) % 360. - 180.\n",
        "    z2 = - math.radians(z2)\n",
        "    anglerad2 = z2 - ((2*math.pi)*math.floor((z2/(2*math.pi))) )\n",
        "    angledeg = (anglerad2*180.)/math.pi\n",
        "    \n",
        "    return round(angledeg, 2)\n",
        "\n",
        "#Вычисляет среднюю абсолютную процентную ошибку\n",
        "def mean_absolute_percentage_error(y_true, y_pred): \n",
        "    y_true, y_pred = np.array(y_true), np.array(y_pred)\n",
        "    return np.mean(np.abs((y_true - y_pred) / y_true)) * 100\n",
        "\n",
        "#Вычисляет медианную абсолютную процентную ошибку\n",
        "def median_absolute_percentage_error(y_true, y_pred): \n",
        "    y_true, y_pred = np.array(y_true), np.array(y_pred)\n",
        "    return np.median(np.abs((y_true - y_pred) / y_true)) * 100\n",
        "\n",
        "#Печатает рассчитанные значения коэффициента детерминации, средней и медианной абсолютных ошибок\n",
        "def print_metrics(prediction, val_y):\n",
        "    val_mae = mean_absolute_error(val_y, prediction)\n",
        "    median_AE = median_absolute_error(val_y, prediction)\n",
        "    r2 = r2_score(val_y, prediction)\n",
        "\n",
        "    print('')\n",
        "    print('R\\u00b2: {:.2}'.format(r2))\n",
        "    print('')\n",
        "    print('Средняя абсолютная ошибка: {:.3} %'.format(mean_absolute_percentage_error(val_y, prediction)))\n",
        "    print('Медианная абсолютная ошибка: {:.3} %'.format(median_absolute_percentage_error(val_y, prediction)))"
      ],
      "execution_count": 0,
      "outputs": []
    },
    {
      "cell_type": "code",
      "metadata": {
        "id": "-biupNQwKMMK",
        "colab_type": "code",
        "outputId": "2117c8d7-9904-4fe2-ffac-021616cb2afb",
        "colab": {
          "base_uri": "https://localhost:8080/",
          "height": 197
        }
      },
      "source": [
        "#При помощи библиотеки pandas считываем csv-файл и преобразуем его в формат датафрейма (таблицы)\n",
        "file_path = 'https://raw.githubusercontent.com/maxbobkov/ml_moscow_flats/master/moscow_dataset_2020.csv'\n",
        "df = pd.read_csv(file_path)\n",
        "\n",
        "#Выводим 5 первых строк датафрейма\n",
        "df.head(5)"
      ],
      "execution_count": 0,
      "outputs": [
        {
          "output_type": "execute_result",
          "data": {
            "text/html": [
              "<div>\n",
              "<style scoped>\n",
              "    .dataframe tbody tr th:only-of-type {\n",
              "        vertical-align: middle;\n",
              "    }\n",
              "\n",
              "    .dataframe tbody tr th {\n",
              "        vertical-align: top;\n",
              "    }\n",
              "\n",
              "    .dataframe thead th {\n",
              "        text-align: right;\n",
              "    }\n",
              "</style>\n",
              "<table border=\"1\" class=\"dataframe\">\n",
              "  <thead>\n",
              "    <tr style=\"text-align: right;\">\n",
              "      <th></th>\n",
              "      <th>wallsMaterial</th>\n",
              "      <th>floorNumber</th>\n",
              "      <th>floorsTotal</th>\n",
              "      <th>totalArea</th>\n",
              "      <th>kitchenArea</th>\n",
              "      <th>latitude</th>\n",
              "      <th>longitude</th>\n",
              "      <th>price</th>\n",
              "    </tr>\n",
              "  </thead>\n",
              "  <tbody>\n",
              "    <tr>\n",
              "      <th>0</th>\n",
              "      <td>brick</td>\n",
              "      <td>1</td>\n",
              "      <td>5.0</td>\n",
              "      <td>18.0</td>\n",
              "      <td>3.0</td>\n",
              "      <td>55.723379</td>\n",
              "      <td>37.628577</td>\n",
              "      <td>5600000</td>\n",
              "    </tr>\n",
              "    <tr>\n",
              "      <th>1</th>\n",
              "      <td>brick</td>\n",
              "      <td>1</td>\n",
              "      <td>5.0</td>\n",
              "      <td>15.0</td>\n",
              "      <td>3.0</td>\n",
              "      <td>55.725980</td>\n",
              "      <td>37.671031</td>\n",
              "      <td>4650000</td>\n",
              "    </tr>\n",
              "    <tr>\n",
              "      <th>2</th>\n",
              "      <td>brick</td>\n",
              "      <td>1</td>\n",
              "      <td>5.0</td>\n",
              "      <td>11.9</td>\n",
              "      <td>1.5</td>\n",
              "      <td>55.735976</td>\n",
              "      <td>37.657817</td>\n",
              "      <td>2990000</td>\n",
              "    </tr>\n",
              "    <tr>\n",
              "      <th>3</th>\n",
              "      <td>brick</td>\n",
              "      <td>1</td>\n",
              "      <td>7.0</td>\n",
              "      <td>18.4</td>\n",
              "      <td>3.0</td>\n",
              "      <td>55.786698</td>\n",
              "      <td>37.595321</td>\n",
              "      <td>4390000</td>\n",
              "    </tr>\n",
              "    <tr>\n",
              "      <th>4</th>\n",
              "      <td>brick</td>\n",
              "      <td>2</td>\n",
              "      <td>5.0</td>\n",
              "      <td>17.6</td>\n",
              "      <td>2.0</td>\n",
              "      <td>55.767894</td>\n",
              "      <td>37.665920</td>\n",
              "      <td>4890000</td>\n",
              "    </tr>\n",
              "  </tbody>\n",
              "</table>\n",
              "</div>"
            ],
            "text/plain": [
              "  wallsMaterial  floorNumber  floorsTotal  ...   latitude  longitude    price\n",
              "0         brick            1          5.0  ...  55.723379  37.628577  5600000\n",
              "1         brick            1          5.0  ...  55.725980  37.671031  4650000\n",
              "2         brick            1          5.0  ...  55.735976  37.657817  2990000\n",
              "3         brick            1          7.0  ...  55.786698  37.595321  4390000\n",
              "4         brick            2          5.0  ...  55.767894  37.665920  4890000\n",
              "\n",
              "[5 rows x 8 columns]"
            ]
          },
          "metadata": {
            "tags": []
          },
          "execution_count": 3
        }
      ]
    },
    {
      "cell_type": "code",
      "metadata": {
        "id": "uQfJomYOKPCD",
        "colab_type": "code",
        "outputId": "672153b2-b021-4d29-ad1a-45b9a8c8bdb1",
        "colab": {
          "base_uri": "https://localhost:8080/",
          "height": 336
        }
      },
      "source": [
        "#Создаем новый столбец Стоимость 1 кв.м путем построчного деления стоимостей квартир на их общие площади\n",
        "df['priceMetr'] = df['price']/df['totalArea']\n",
        "\n",
        "#Задаем широту и долготу центра города и рассчитываем для каждой квартиры расстояние от центра и азимут \n",
        "city_center_coordinates = [55.7522, 37.6156]\n",
        "df['distance'] = list(map(lambda x, y: geodesic(city_center_coordinates, [x, y]).meters, df['latitude'], df['longitude']))\n",
        "df['azimuth'] = list(map(lambda x, y: get_azimuth(x, y), df['latitude'], df['longitude']))\n",
        "\n",
        "#Выбираем из датафрейма только те квартиры, которые расположены не дальше 40 км от центра города с панельными стенами\n",
        "df = df.loc[(df['distance'] < 40000)] \n",
        "\n",
        "#Округляем значения стоблцов Стоимости метра, расстояния и азимута\n",
        "df['priceMetr'] = df['priceMetr'].round(0)\n",
        "df['distance'] = df['distance'].round(0)\n",
        "df['azimuth'] = df['azimuth'].round(0)\n",
        "\n",
        "#Выводим сводную информацию о датафрейме и его столбцах (признаках)\n",
        "df.info()"
      ],
      "execution_count": 0,
      "outputs": [
        {
          "output_type": "stream",
          "text": [
            "<class 'pandas.core.frame.DataFrame'>\n",
            "Int64Index: 63682 entries, 0 to 63944\n",
            "Data columns (total 11 columns):\n",
            " #   Column         Non-Null Count  Dtype  \n",
            "---  ------         --------------  -----  \n",
            " 0   wallsMaterial  63682 non-null  object \n",
            " 1   floorNumber    63682 non-null  int64  \n",
            " 2   floorsTotal    63682 non-null  float64\n",
            " 3   totalArea      63682 non-null  float64\n",
            " 4   kitchenArea    63682 non-null  float64\n",
            " 5   latitude       63682 non-null  float64\n",
            " 6   longitude      63682 non-null  float64\n",
            " 7   price          63682 non-null  int64  \n",
            " 8   priceMetr      63682 non-null  float64\n",
            " 9   distance       63682 non-null  float64\n",
            " 10  azimuth        63682 non-null  float64\n",
            "dtypes: float64(8), int64(2), object(1)\n",
            "memory usage: 5.8+ MB\n"
          ],
          "name": "stdout"
        }
      ]
    },
    {
      "cell_type": "code",
      "metadata": {
        "id": "B2PsbaZ6KThD",
        "colab_type": "code",
        "colab": {}
      },
      "source": [
        "#Вычисляем строки со значениями-выбросами \n",
        "first_quartile = df.quantile(q=0.25)\n",
        "third_quartile = df.quantile(q=0.75)\n",
        "IQR = third_quartile - first_quartile\n",
        "outliers = df[(df > (third_quartile + 1.5 * IQR)) | (df < (first_quartile - 1.5 * IQR))].count(axis=1)\n",
        "outliers.sort_values(axis=0, ascending=False, inplace=True)\n",
        "\n",
        "#Удаляем из датафрейма 3000 строк, подходящих под критерии выбросов\n",
        "outliers = outliers.head(3000)\n",
        "df.drop(outliers.index, inplace=True)"
      ],
      "execution_count": 0,
      "outputs": []
    },
    {
      "cell_type": "code",
      "metadata": {
        "id": "hqFo3pzMKWdR",
        "colab_type": "code",
        "outputId": "880aadf9-08b4-42ae-cad0-8ca6883d07bc",
        "colab": {
          "base_uri": "https://localhost:8080/",
          "height": 354
        }
      },
      "source": [
        "#Вычисляем столбцы с категорийными признаками, затем заменяем их на числа\n",
        "categorical_columns = df.columns[df.dtypes == 'object']\n",
        "labelencoder = LabelEncoder()\n",
        "for column in categorical_columns:\n",
        "    df[column] = labelencoder.fit_transform(df[column])\n",
        "    print(dict(enumerate(labelencoder.classes_)))\n",
        "\n",
        "#Выводим сводную информацию о датафрейме и его столбцах (признаках), чтобы убедиться, что теперь они все содержат цифровые значения\n",
        "df.info()"
      ],
      "execution_count": 0,
      "outputs": [
        {
          "output_type": "stream",
          "text": [
            "{0: 'None', 1: 'block', 2: 'brick', 3: 'monolith', 4: 'monolithBrick', 5: 'old', 6: 'panel', 7: 'stalin', 8: 'wood'}\n",
            "<class 'pandas.core.frame.DataFrame'>\n",
            "Int64Index: 60682 entries, 0 to 63942\n",
            "Data columns (total 11 columns):\n",
            " #   Column         Non-Null Count  Dtype  \n",
            "---  ------         --------------  -----  \n",
            " 0   wallsMaterial  60682 non-null  int64  \n",
            " 1   floorNumber    60682 non-null  int64  \n",
            " 2   floorsTotal    60682 non-null  float64\n",
            " 3   totalArea      60682 non-null  float64\n",
            " 4   kitchenArea    60682 non-null  float64\n",
            " 5   latitude       60682 non-null  float64\n",
            " 6   longitude      60682 non-null  float64\n",
            " 7   price          60682 non-null  int64  \n",
            " 8   priceMetr      60682 non-null  float64\n",
            " 9   distance       60682 non-null  float64\n",
            " 10  azimuth        60682 non-null  float64\n",
            "dtypes: float64(8), int64(3)\n",
            "memory usage: 5.6 MB\n"
          ],
          "name": "stdout"
        }
      ]
    },
    {
      "cell_type": "code",
      "metadata": {
        "id": "-Pv6mm-OKZPK",
        "colab_type": "code",
        "colab": {}
      },
      "source": [
        "#Назначаем целевой переменной цену 1 кв. метра, а можно и цену всей квартиры, тогда будет y = df['price']\n",
        "y = df['priceMetr']\n",
        "\n",
        "#Создаем список признаков, на основании которых будем строить модели\n",
        "features = [\n",
        "            'wallsMaterial', \n",
        "            'floorNumber', \n",
        "            'floorsTotal', \n",
        "            'totalArea', \n",
        "            'kitchenArea',\n",
        "            'distance',\n",
        "            'azimuth'\n",
        "           ]\n",
        "\n",
        "#Создаем датафрейм, состоящий из признаков, выбранных ранее\n",
        "X = df[features]\n",
        "\n",
        "#Проводим случайное разбиение данных на выборки для обучения (train) и валидации (val), по умолчанию в пропорции 0.75/0.25\n",
        "train_X, val_X, train_y, val_y = train_test_split(X, y, random_state=1)"
      ],
      "execution_count": 0,
      "outputs": []
    },
    {
      "cell_type": "code",
      "metadata": {
        "id": "koT69SXaKcKi",
        "colab_type": "code",
        "outputId": "f6b031d9-e0d7-4dff-a903-0c435d13cde5",
        "colab": {
          "base_uri": "https://localhost:8080/",
          "height": 105
        }
      },
      "source": [
        "#Создаем регрессионную модель случайного леса \n",
        "rf_model = RandomForestRegressor(n_estimators=2000, \n",
        "                                 n_jobs=-1,  \n",
        "                                 bootstrap=False,\n",
        "                                 criterion='mse',\n",
        "                                 max_features=3,\n",
        "                                 random_state=1,\n",
        "                                 max_depth=55,\n",
        "                                 min_samples_split=5\n",
        "                                 )\n",
        "\n",
        "#Проводим подгонку модели на обучающей выборке \n",
        "rf_model.fit(train_X, train_y)\n",
        "\n",
        "#Вычисляем предсказанные значения цен на основе валидационной выборки\n",
        "rf_prediction = rf_model.predict(val_X).round(0)\n",
        "\n",
        "#Вычисляем и печатаем величины ошибок при сравнении известных цен квартир из валидационной выборки с предсказанными моделью\n",
        "print_metrics(rf_prediction, val_y)"
      ],
      "execution_count": 0,
      "outputs": [
        {
          "output_type": "stream",
          "text": [
            "\n",
            "R²: 0.82\n",
            "\n",
            "Средняя абсолютная ошибка: 8.03 %\n",
            "Медианная абсолютная ошибка: 5.37 %\n"
          ],
          "name": "stdout"
        }
      ]
    },
    {
      "cell_type": "code",
      "metadata": {
        "id": "AQNL4u9FKc9g",
        "colab_type": "code",
        "outputId": "735a8bf0-5b3f-4c0c-92ce-1cf963a7fc04",
        "colab": {
          "base_uri": "https://localhost:8080/",
          "height": 105
        }
      },
      "source": [
        "#Создаем регрессионную модель XGBoost\n",
        "xgb_model = xgb.XGBRegressor(objective ='reg:gamma', \n",
        "                             learning_rate = 0.01,\n",
        "                             max_depth = 45, \n",
        "                             n_estimators = 2000,\n",
        "                             nthread = -1,\n",
        "                             eval_metric = 'gamma-nloglik', \n",
        "                             )\n",
        "\n",
        "#Проводим подгонку модели на обучающей выборке \n",
        "xgb_model.fit(train_X, train_y)\n",
        "\n",
        "#Вычисляем предсказанные значения цен на основе валидационной выборки\n",
        "xgb_prediction = xgb_model.predict(val_X).round(0)\n",
        "\n",
        "#Вычисляем и печатаем величины ошибок при сравнении известных цен квартир из валидационной выборки с предсказанными моделью\n",
        "print_metrics(xgb_prediction, val_y)"
      ],
      "execution_count": 0,
      "outputs": [
        {
          "output_type": "stream",
          "text": [
            "\n",
            "R²: 0.8\n",
            "\n",
            "Средняя абсолютная ошибка: 7.78 %\n",
            "Медианная абсолютная ошибка: 5.17 %\n"
          ],
          "name": "stdout"
        }
      ]
    },
    {
      "cell_type": "code",
      "metadata": {
        "id": "cCh96BUtKjwS",
        "colab_type": "code",
        "outputId": "df00cead-8a52-45c2-825e-af1014be66f1",
        "colab": {
          "base_uri": "https://localhost:8080/",
          "height": 105
        }
      },
      "source": [
        "#Усредняем предсказания обоих моделей\n",
        "prediction = rf_prediction * 0.5 + xgb_prediction * 0.5 \n",
        "\n",
        "#Вычисляем и печатаем величины ошибок для усредненного предсказания\n",
        "print_metrics(prediction, val_y)"
      ],
      "execution_count": 0,
      "outputs": [
        {
          "output_type": "stream",
          "text": [
            "\n",
            "R²: 0.82\n",
            "\n",
            "Средняя абсолютная ошибка: 7.72 %\n",
            "Медианная абсолютная ошибка: 5.21 %\n"
          ],
          "name": "stdout"
        }
      ]
    },
    {
      "cell_type": "code",
      "metadata": {
        "id": "rgUZ8bQMKk6s",
        "colab_type": "code",
        "outputId": "9bccad6a-70b7-4e06-f96a-19b86da41a47",
        "colab": {
          "base_uri": "https://localhost:8080/",
          "height": 422
        }
      },
      "source": [
        "#Рассчитываем важность признаков в модели Random forest\n",
        "importances = rf_model.feature_importances_\n",
        "std = np.std([tree.feature_importances_ for tree in rf_model.estimators_],\n",
        "             axis=0)\n",
        "indices = np.argsort(importances)[::-1]\n",
        "\n",
        "#Печатаем рейтинг признаков\n",
        "print(\"Рейтинг важности признаков:\")\n",
        "for f in range(X.shape[1]):\n",
        "    print(\"%d. %s (%f)\" % (f + 1, features[indices[f]], importances[indices[f]]))\n",
        "\n",
        "#Строим столбчатую диаграмму важности признаков\n",
        "plt.figure()\n",
        "plt.title(\"Важность признаков\")\n",
        "plt.bar(range(X.shape[1]), importances[indices], color=\"g\", yerr=std[indices], align=\"center\")\n",
        "plt.xticks(range(X.shape[1]), indices)\n",
        "plt.xlim([-1, X.shape[1]])\n",
        "plt.show()"
      ],
      "execution_count": 0,
      "outputs": [
        {
          "output_type": "stream",
          "text": [
            "Рейтинг важности признаков:\n",
            "1. distance (0.528668)\n",
            "2. azimuth (0.137755)\n",
            "3. wallsMaterial (0.097887)\n",
            "4. totalArea (0.075955)\n",
            "5. kitchenArea (0.065117)\n",
            "6. floorsTotal (0.063342)\n",
            "7. floorNumber (0.031277)\n"
          ],
          "name": "stdout"
        },
        {
          "output_type": "display_data",
          "data": {
            "image/png": "[encoded data removed]",
            "text/plain": [
              "<Figure size 432x288 with 1 Axes>"
            ]
          },
          "metadata": {
            "tags": [],
            "image/png": {
              "width": 372,
              "height": 263
            },
            "needs_background": "light"
          }
        }
      ]
    },
    {
      "cell_type": "code",
      "metadata": {
        "id": "gAYeAwBhKnWD",
        "colab_type": "code",
        "outputId": "125ff6ff-a49b-4dcd-c108-44300f19e748",
        "colab": {
          "base_uri": "https://localhost:8080/",
          "height": 34
        }
      },
      "source": [
        "#Создаем датафрейм с параметрами квартиры https://www.cian.ru/sale/flat/224266404/, цена предложения 11 700 000 рублей\n",
        "flat = pd.DataFrame({\n",
        "                     'wallsMaterial':[6], \n",
        "                     'floorNumber':[4],\n",
        "                     'floorsTotal':[17],\n",
        "                     'totalArea':[51.2],\n",
        "                     'kitchenArea':[9.7],\n",
        "                     'latitude':[55.858817],\n",
        "                     'longitude':[37.638755]\n",
        "                     })\n",
        "\n",
        "#Рассчитываем недостающие параметры квартиры - расстояние от центра города и азимут\n",
        "flat['distance'] = list(map(lambda x, y: geodesic(city_center_coordinates, [x, y]).meters, flat['latitude'], flat['longitude']))\n",
        "flat['azimuth'] = list(map(lambda x, y: get_azimuth(x, y), flat['latitude'], flat['longitude']))\n",
        "flat['distance'] = flat['distance'].round(0)\n",
        "flat['azimuth'] = flat['azimuth'].round(0)\n",
        "\n",
        "#Удаляем ненужные столбцы с широтой и долготой\n",
        "flat = flat.drop('latitude', axis=1)\n",
        "flat = flat.drop('longitude', axis=1)\n",
        "\n",
        "#Вычисляем предсказанное значение стоимости по двум моделям\n",
        "rf_prediction_flat = rf_model.predict(flat).round(0)\n",
        "xgb_prediction_flat = xgb_model.predict(flat).round(0)\n",
        "\n",
        "#Усредняем полученные знаечения и умножаем на общую площадь квартиры\n",
        "price = (rf_prediction_flat * 0.5 + xgb_prediction_flat * 0.5)*flat['totalArea'][0]\n",
        "\n",
        "#Печатаем предсказанное значение цены предложения\n",
        "print(f'Предсказанная моделью цена предложения: {int(price[0].round(-3))} рублей')"
      ],
      "execution_count": 0,
      "outputs": [
        {
          "output_type": "stream",
          "text": [
            "Предсказанная моделью цена предложения: 11683000 рублей\n"
          ],
          "name": "stdout"
        }
      ]
    }
  ]
}